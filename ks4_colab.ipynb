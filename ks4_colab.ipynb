{
  "cells": [
    {
      "cell_type": "markdown",
      "metadata": {
        "id": "O8lV4mMFtg4r"
      },
      "source": [
        "# Kilosort 4\n",
        "\n",
        "To run kilosort4 on Google Colab"
      ]
    },
    {
      "cell_type": "code",
      "source": [
        "from google.colab import drive\n",
        "drive.mount('/content/drive')"
      ],
      "metadata": {
        "colab": {
          "base_uri": "https://localhost:8080/"
        },
        "id": "guO6fp8ia73f",
        "outputId": "41141738-2d1e-4345-db3c-1706fe8519dc"
      },
      "execution_count": null,
      "outputs": [
        {
          "output_type": "stream",
          "name": "stdout",
          "text": [
            "Mounted at /content/drive\n"
          ]
        }
      ]
    },
    {
      "cell_type": "markdown",
      "source": [
        "***\n",
        "## Import and Install Libraries"
      ],
      "metadata": {
        "id": "z8aqJH69e6Uo"
      }
    },
    {
      "cell_type": "code",
      "execution_count": null,
      "metadata": {
        "colab": {
          "base_uri": "https://localhost:8080/"
        },
        "id": "h1pY_Qdps78T",
        "outputId": "07dd99e4-ea19-4f46-8cb0-85f6ebb082ff"
      },
      "outputs": [
        {
          "output_type": "stream",
          "name": "stdout",
          "text": [
            "Requirement already satisfied: kilosort in /usr/local/lib/python3.10/dist-packages (4.0.6)\n",
            "Requirement already satisfied: numpy>=1.20.0 in /usr/local/lib/python3.10/dist-packages (from kilosort) (1.25.2)\n",
            "Requirement already satisfied: scipy in /usr/local/lib/python3.10/dist-packages (from kilosort) (1.11.4)\n",
            "Requirement already satisfied: scikit-learn in /usr/local/lib/python3.10/dist-packages (from kilosort) (1.2.2)\n",
            "Requirement already satisfied: tqdm in /usr/local/lib/python3.10/dist-packages (from kilosort) (4.66.2)\n",
            "Requirement already satisfied: torch>=1.6 in /usr/local/lib/python3.10/dist-packages (from kilosort) (2.2.1+cu121)\n",
            "Requirement already satisfied: numba in /usr/local/lib/python3.10/dist-packages (from kilosort) (0.58.1)\n",
            "Requirement already satisfied: faiss-cpu in /usr/local/lib/python3.10/dist-packages (from kilosort) (1.8.0)\n",
            "Requirement already satisfied: filelock in /usr/local/lib/python3.10/dist-packages (from torch>=1.6->kilosort) (3.14.0)\n",
            "Requirement already satisfied: typing-extensions>=4.8.0 in /usr/local/lib/python3.10/dist-packages (from torch>=1.6->kilosort) (4.11.0)\n",
            "Requirement already satisfied: sympy in /usr/local/lib/python3.10/dist-packages (from torch>=1.6->kilosort) (1.12)\n",
            "Requirement already satisfied: networkx in /usr/local/lib/python3.10/dist-packages (from torch>=1.6->kilosort) (3.3)\n",
            "Requirement already satisfied: jinja2 in /usr/local/lib/python3.10/dist-packages (from torch>=1.6->kilosort) (3.1.3)\n",
            "Requirement already satisfied: fsspec in /usr/local/lib/python3.10/dist-packages (from torch>=1.6->kilosort) (2023.6.0)\n",
            "Requirement already satisfied: nvidia-cuda-nvrtc-cu12==12.1.105 in /usr/local/lib/python3.10/dist-packages (from torch>=1.6->kilosort) (12.1.105)\n",
            "Requirement already satisfied: nvidia-cuda-runtime-cu12==12.1.105 in /usr/local/lib/python3.10/dist-packages (from torch>=1.6->kilosort) (12.1.105)\n",
            "Requirement already satisfied: nvidia-cuda-cupti-cu12==12.1.105 in /usr/local/lib/python3.10/dist-packages (from torch>=1.6->kilosort) (12.1.105)\n",
            "Requirement already satisfied: nvidia-cudnn-cu12==8.9.2.26 in /usr/local/lib/python3.10/dist-packages (from torch>=1.6->kilosort) (8.9.2.26)\n",
            "Requirement already satisfied: nvidia-cublas-cu12==12.1.3.1 in /usr/local/lib/python3.10/dist-packages (from torch>=1.6->kilosort) (12.1.3.1)\n",
            "Requirement already satisfied: nvidia-cufft-cu12==11.0.2.54 in /usr/local/lib/python3.10/dist-packages (from torch>=1.6->kilosort) (11.0.2.54)\n",
            "Requirement already satisfied: nvidia-curand-cu12==10.3.2.106 in /usr/local/lib/python3.10/dist-packages (from torch>=1.6->kilosort) (10.3.2.106)\n",
            "Requirement already satisfied: nvidia-cusolver-cu12==11.4.5.107 in /usr/local/lib/python3.10/dist-packages (from torch>=1.6->kilosort) (11.4.5.107)\n",
            "Requirement already satisfied: nvidia-cusparse-cu12==12.1.0.106 in /usr/local/lib/python3.10/dist-packages (from torch>=1.6->kilosort) (12.1.0.106)\n",
            "Requirement already satisfied: nvidia-nccl-cu12==2.19.3 in /usr/local/lib/python3.10/dist-packages (from torch>=1.6->kilosort) (2.19.3)\n",
            "Requirement already satisfied: nvidia-nvtx-cu12==12.1.105 in /usr/local/lib/python3.10/dist-packages (from torch>=1.6->kilosort) (12.1.105)\n",
            "Requirement already satisfied: triton==2.2.0 in /usr/local/lib/python3.10/dist-packages (from torch>=1.6->kilosort) (2.2.0)\n",
            "Requirement already satisfied: nvidia-nvjitlink-cu12 in /usr/local/lib/python3.10/dist-packages (from nvidia-cusolver-cu12==11.4.5.107->torch>=1.6->kilosort) (12.4.127)\n",
            "Requirement already satisfied: llvmlite<0.42,>=0.41.0dev0 in /usr/local/lib/python3.10/dist-packages (from numba->kilosort) (0.41.1)\n",
            "Requirement already satisfied: joblib>=1.1.1 in /usr/local/lib/python3.10/dist-packages (from scikit-learn->kilosort) (1.4.0)\n",
            "Requirement already satisfied: threadpoolctl>=2.0.0 in /usr/local/lib/python3.10/dist-packages (from scikit-learn->kilosort) (3.5.0)\n",
            "Requirement already satisfied: MarkupSafe>=2.0 in /usr/local/lib/python3.10/dist-packages (from jinja2->torch>=1.6->kilosort) (2.1.5)\n",
            "Requirement already satisfied: mpmath>=0.19 in /usr/local/lib/python3.10/dist-packages (from sympy->torch>=1.6->kilosort) (1.3.0)\n"
          ]
        }
      ],
      "source": [
        "import os\n",
        "import re\n",
        "import sys\n",
        "import warnings\n",
        "import argparse\n",
        "import numpy as np\n",
        "import pandas as pd\n",
        "from pathlib import Path\n",
        "import matplotlib.pyplot as plt\n",
        "from collections import defaultdict\n",
        "from matplotlib import gridspec, rcParams\n",
        "warnings.simplefilter(\"ignore\")\n",
        "# install kilosort\n",
        "!pip install kilosort\n",
        "from kilosort import run_kilosort\n",
        "\n",
        "sys.path.append('/content/drive/MyDrive/Columbia/Salzman/Projects/Spike-Sorting/Kilosort4-SGLX')"
      ]
    },
    {
      "cell_type": "markdown",
      "source": [
        "***\n",
        "## Find Recording Folders"
      ],
      "metadata": {
        "id": "LNpa4hj8e177"
      }
    },
    {
      "cell_type": "code",
      "execution_count": null,
      "metadata": {
        "colab": {
          "base_uri": "https://localhost:8080/"
        },
        "id": "1GfGnTFsuW0j",
        "outputId": "76c07bfe-c5a7-428d-ad5f-1c34a9308943"
      },
      "outputs": [
        {
          "output_type": "stream",
          "name": "stdout",
          "text": [
            "SpikeGLX folder: /content/drive/Othercomputers/Ephys/E:/gandalf_20240126_g0\n"
          ]
        },
        {
          "output_type": "execute_result",
          "data": {
            "text/plain": [
              "{'imec0': '/content/drive/Othercomputers/Ephys/E:/gandalf_20240126_g0/gandalf_20240126_g0_imec0',\n",
              " 'imec1': '/content/drive/Othercomputers/Ephys/E:/gandalf_20240126_g0/gandalf_20240126_g0_imec1'}"
            ]
          },
          "metadata": {},
          "execution_count": 3
        }
      ],
      "source": [
        "def read_recording_folder(root, monkey, date, session_num=0):\n",
        "\tsglx_folder = os.path.join(root, f'{monkey}_{date}_g{session_num}')\n",
        "\timec_folder_dict = defaultdict(str)\n",
        "\tprint(f'SpikeGLX folder: {sglx_folder}')\n",
        "\t# check if it exists\n",
        "\tif not os.path.exists(sglx_folder):\n",
        "\t\tsys.exit(f'{sglx_folder} does not exist')\n",
        "\t# print all folders that have imec<int> in them\n",
        "\tfor root, dirs, files in os.walk(sglx_folder):\n",
        "\t\tfor folder in dirs:\n",
        "\t\t\t# only if the directory ends with imec<int>\n",
        "\t\t\tif re.search('imec\\d$', folder):\n",
        "\t\t\t\timec_num = re.search('imec\\d$', folder).group()\n",
        "\t\t\t\timec_folder_dict[imec_num] = os.path.join(root, folder)\n",
        "\tif not imec_folder_dict:\n",
        "\t\ttry:\n",
        "\t\t\tprint(os.listdir(root))\n",
        "\t\texcept:\n",
        "\t\t\tprint(f'{root} missing')\n",
        "\t\tsys.exit(f'No imec folders found in {sglx_folder}')\n",
        "\t# order the dictionary\n",
        "\timec_folder_dict = dict(sorted(imec_folder_dict.items(), key=lambda item: item[1]))\n",
        "\treturn sglx_folder, imec_folder_dict\n",
        "\n",
        "root='/content/drive/Othercomputers/Ephys/E:'\n",
        "# root = 'E:'\n",
        "monkey = 'gandalf'\n",
        "date = '20240126'\n",
        "session_num = 0\n",
        "sglx_folder, imec_folder_dict = read_recording_folder(root, monkey, date, session_num)\n",
        "\n",
        "imec_folder_dict"
      ]
    },
    {
      "cell_type": "markdown",
      "source": [
        "***\n",
        "## Run CatGT"
      ],
      "metadata": {
        "id": "mXH7JhRXf7yI"
      }
    },
    {
      "cell_type": "code",
      "source": [
        "import time\n",
        "import subprocess\n",
        "\n",
        "run_catgt = True\n",
        "cat_prb_fld = '0:3'\n",
        "ks_path = '/content/drive/MyDrive/Columbia/Salzman/Projects/Spike-Sorting/Kilosort4-SGLX'\n",
        "catgt_path = os.path.join(ks_path, 'CatGT-win')\n",
        "\n",
        "if run_catgt:\n",
        "  sys.path.append(catgt_path)\n",
        "  if not os.path.exists(catgt_path):\n",
        "    print(f'CatGT Missing: ')\n",
        "  print(f\"Running CatGT on {sglx_folder}\")\n",
        "  # time how long it takes\n",
        "  start_time = time.time()\n",
        "  catgt_command = f\"runit.bat -dir={root} -run={monkey}_{date} -prb_fld -g={session_num} -t=0 -ni -prb={cat_prb_fld} -ap\"\n",
        "  print(f\"  Bash command: {catgt_command}\")\n",
        "  subprocess.run(catgt_command, cwd=os.path.join(ks_path, \"CatGT-win/\"), shell=True)\n",
        "  print(f\"  CatGT complete. Time elapsed: {time.time() - start_time:.2f} seconds\")\n"
      ],
      "metadata": {
        "colab": {
          "base_uri": "https://localhost:8080/"
        },
        "id": "svOvv-qufXwO",
        "outputId": "6b7d5ad8-b288-464d-9830-d322b5f4caf0"
      },
      "execution_count": null,
      "outputs": [
        {
          "output_type": "stream",
          "name": "stdout",
          "text": [
            "Running CatGT on /content/drive/Othercomputers/Ephys/E:/gandalf_20240126_g0\n",
            "  Bash command: runit.bat -dir=/content/drive/Othercomputers/Ephys/E: -run=gandalf_20240126 -prb_fld -g=0 -t=0 -ni -prb=0:3 -ap\n",
            "  CatGT complete. Time elapsed: 0.02 seconds\n"
          ]
        }
      ]
    },
    {
      "cell_type": "markdown",
      "source": [
        "***\n",
        "## Run Kilosort"
      ],
      "metadata": {
        "id": "3H4BD7mLexsn"
      }
    },
    {
      "cell_type": "code",
      "execution_count": null,
      "metadata": {
        "colab": {
          "base_uri": "https://localhost:8080/"
        },
        "id": "PGS-3oCKsyS1",
        "outputId": "ff6afcdd-6a6b-4c37-85d2-3ec39d7f71bc"
      },
      "outputs": [
        {
          "output_type": "stream",
          "name": "stdout",
          "text": [
            "imec0 folder: /content/drive/Othercomputers/Ephys/E:/gandalf_20240126_g0/gandalf_20240126_g0_imec0\n",
            "Interpreting binary file as default dtype='int16'. If data was saved in a different format, specify `data_dtype`.\n",
            "Using GPU for PyTorch computations. Specify `device` to change this.\n",
            "using probe neuropixels_NHP_channel_map_linear_v1.mat\n",
            "Preprocessing filters computed in  517.05s; total  517.92s\n",
            "\n",
            "computing drift\n",
            "Re-computing universal templates from data.\n"
          ]
        },
        {
          "output_type": "stream",
          "name": "stderr",
          "text": [
            " 97%|█████████▋| 3962/4078 [1:36:14<02:53,  1.50s/it]"
          ]
        }
      ],
      "source": [
        "def run_kilosort4(settings):\n",
        "\tdefault_kilosort_settings = {'n_chan_bin': 385}\n",
        "\tops, st, clu, tF, Wall, similar_templates, is_ref, est_contam_rate = \\\n",
        "\t\t\trun_kilosort(settings=default_kilosort_settings,\n",
        "\t\t\t\t\t\t\t\t\t probe_name=settings['probe_name'],\n",
        "\t\t\t\t\t\t\t\t\t filename=settings['filename'],\n",
        "\t\t\t\t\t\t\t\t\t results_dir=settings['results_dir'],\n",
        "\t\t\t\t\t\t\t\t\t do_CAR=settings['do_CAR'],)\n",
        "\n",
        "\tplot_results(settings)\n",
        "\n",
        "map_file = '/content/drive/MyDrive/Columbia/Salzman/Projects/Spike-Sorting/Kilosort4-SGLX/configFiles/neuropixels_NHP_channel_map_linear_v1.mat'\n",
        "# map_file = \"C:/Users/Milner/OneDrive/Desktop/Kilosort4-SGLX/configFiles/neuropixels_NHP_channel_map_linear_v1.mat\"\n",
        "n_channels = 385\n",
        "\n",
        "for imec_num, imec_folder in imec_folder_dict.items():\n",
        "\tprint(f'{imec_num} folder: {imec_folder}')\n",
        "\tdata_dir = imec_folder\n",
        "\tsave_path = os.path.join(imec_folder, f'{monkey}_{date}_g{session_num}_t0.{imec_num}_ks4')\n",
        "\tbin_file = os.path.join(imec_folder, f'{monkey}_{date}_g{session_num}_t0.{imec_num}.ap.bin')\n",
        "\tif not os.path.exists(bin_file):\n",
        "\t\tprint(f'{bin_file} does not exist')\n",
        "\t\tcontinue\n",
        "\tsettings = {'filename': bin_file,\n",
        "\t\t\t\t\t\t\t'results_dir': save_path,\n",
        "\t\t\t\t\t\t\t'do_CAR': True,\n",
        "\t\t\t\t\t\t\t'n_channels': n_channels,\n",
        "\t\t\t\t\t\t\t'probe_name': map_file}\n",
        "\trun_kilosort4(settings)"
      ]
    },
    {
      "cell_type": "markdown",
      "source": [
        "***\n",
        "## Run TPrime"
      ],
      "metadata": {
        "id": "judqt7DlhW3R"
      }
    },
    {
      "cell_type": "code",
      "source": [
        "from pathlib import Path\n",
        "\n",
        "run_tprime = True\n",
        "sglx_tools = os.path.join(ks_path, 'SpikeGLX_Datafile_Tools/Python/DemoReadSGLXData')\n",
        "sys.path.append(sglx_tools)\n",
        "from readSGLX import readMeta\n",
        "\n",
        "if run_tprime:\n",
        "  for imec_num, imec_folder in imec_folder_dict.items():\n",
        "    meta_file = [f for f in os.listdir(imec_folder) if f.endswith('.meta')][0]\n",
        "    bin_file = os.path.join(imec_folder, f'{monkey}_{date}_g{session_num}_t0.{imec_num}.ap.bin')\n",
        "    bin_file_path = Path(bin_file_path)\n",
        "    meta_file = readMeta(bin_file_path)\n",
        "    print(\"\\tConverting spike times to seconds...\")\n",
        "    sample_rate = float(meta_file['imSampRate'])\n",
        "    print(f\"\\tSampling rate: {sample_rate:.2f}\")\n",
        "    spike_times = np.load(os.path.join(dest_folder_path, 'spike_times.npy'))\n",
        "    # keep full precision\n",
        "    spike_times_sec = spike_times / sample_rate\n",
        "    spike_times_sec_file = os.path.join(dest_folder_path, \"spike_times_sec.txt\")\n",
        "    with open(spike_times_sec_file, 'w') as f:\n",
        "        for spike_time in spike_times_sec:\n",
        "            f.write(f\"{spike_time}\\n\")\n",
        "    print(f\"\\t\\tGenerating {spike_times_sec_file}\")\n",
        "    print(\"\\t\\tDone.\")"
      ],
      "metadata": {
        "id": "YD8oERznhZdy"
      },
      "execution_count": null,
      "outputs": []
    },
    {
      "cell_type": "code",
      "source": [
        "def plot_results(settings):\n",
        "\n",
        "\t# outputs saved to results_dir\n",
        "\tresults_dir = Path(settings['data_dir']).joinpath('kilosort4')\n",
        "\tops = np.load(results_dir / 'ops.npy', allow_pickle=True).item()\n",
        "\tcamps = pd.read_csv(results_dir / 'cluster_Amplitude.tsv', sep='\\t')['Amplitude'].values\n",
        "\tcontam_pct = pd.read_csv(results_dir / 'cluster_ContamPct.tsv', sep='\\t')['ContamPct'].values\n",
        "\tchan_map =  np.load(results_dir / 'channel_map.npy')\n",
        "\ttemplates =  np.load(results_dir / 'templates.npy')\n",
        "\tchan_best = (templates**2).sum(axis=1).argmax(axis=-1)\n",
        "\tchan_best = chan_map[chan_best]\n",
        "\tamplitudes = np.load(results_dir / 'amplitudes.npy')\n",
        "\tst = np.load(results_dir / 'spike_times.npy')\n",
        "\tclu = np.load(results_dir / 'spike_clusters.npy')\n",
        "\tfiring_rates = np.unique(clu, return_counts=True)[1] * 30000 / st.max()\n",
        "\tdshift = ops['dshift']\n",
        "\n",
        "\trcParams['axes.spines.top'] = False\n",
        "\trcParams['axes.spines.right'] = False\n",
        "\tgray = .5 * np.ones(3)\n",
        "\n",
        "\tfig = plt.figure(figsize=(10,10), dpi=100)\n",
        "\tgrid = gridspec.GridSpec(3, 3, figure=fig, hspace=0.5, wspace=0.5)\n",
        "\n",
        "\tax = fig.add_subplot(grid[0,0])\n",
        "\tax.plot(np.arange(0, ops['Nbatches'])*2, dshift);\n",
        "\tax.set_xlabel('time (sec.)')\n",
        "\tax.set_ylabel('drift (um)')\n",
        "\n",
        "\tax = fig.add_subplot(grid[0,1:])\n",
        "\tt0 = 0\n",
        "\tt1 = np.nonzero(st > ops['fs']*5)[0][0]\n",
        "\tax.scatter(st[t0:t1]/30000., chan_best[clu[t0:t1]], s=0.5, color='k', alpha=0.25)\n",
        "\tax.set_xlim([0, 5])\n",
        "\tax.set_ylim([chan_map.max(), 0])\n",
        "\tax.set_xlabel('time (sec.)')\n",
        "\tax.set_ylabel('channel')\n",
        "\tax.set_title('spikes from units')\n",
        "\n",
        "\tax = fig.add_subplot(grid[1,0])\n",
        "\tnb=ax.hist(firing_rates, 20, color=gray)\n",
        "\tax.set_xlabel('firing rate (Hz)')\n",
        "\tax.set_ylabel('# of units')\n",
        "\n",
        "\tax = fig.add_subplot(grid[1,1])\n",
        "\tnb=ax.hist(camps, 20, color=gray)\n",
        "\tax.set_xlabel('amplitude')\n",
        "\tax.set_ylabel('# of units')\n",
        "\n",
        "\tax = fig.add_subplot(grid[1,2])\n",
        "\tnb=ax.hist(np.minimum(100, contam_pct), np.arange(0,105,5), color=gray)\n",
        "\tax.plot([10, 10], [0, nb[0].max()], 'k--')\n",
        "\tax.set_xlabel('% contamination')\n",
        "\tax.set_ylabel('# of units')\n",
        "\tax.set_title('< 10% = good units')\n",
        "\n",
        "\tfor k in range(2):\n",
        "\t\t\tax = fig.add_subplot(grid[2,k])\n",
        "\t\t\tis_ref = contam_pct<10.\n",
        "\t\t\tax.scatter(firing_rates[~is_ref], camps[~is_ref], s=3, color='r', label='mua', alpha=0.25)\n",
        "\t\t\tax.scatter(firing_rates[is_ref], camps[is_ref], s=3, color='b', label='good', alpha=0.25)\n",
        "\t\t\tax.set_ylabel('amplitude (a.u.)')\n",
        "\t\t\tax.set_xlabel('firing rate (Hz)')\n",
        "\t\t\tax.legend()\n",
        "\t\t\tif k==1:\n",
        "\t\t\t\t\tax.set_xscale('log')\n",
        "\t\t\t\t\tax.set_yscale('log')\n",
        "\t\t\t\t\tax.set_title('loglog')\n",
        "\n",
        "\t#\n",
        "\tprobe = ops['probe']\n",
        "\t# x and y position of probe sites\n",
        "\txc, yc = probe['xc'], probe['yc']\n",
        "\tnc = 16 # number of channels to show\n",
        "\tgood_units = np.nonzero(contam_pct <= 0.1)[0]\n",
        "\tmua_units = np.nonzero(contam_pct > 0.1)[0]\n",
        "\n",
        "\tgstr = ['good', 'mua']\n",
        "\tfor j in range(2):\n",
        "\t\t\tprint(f'~~~~~~~~~~~~~~ {gstr[j]} units ~~~~~~~~~~~~~~~~~~~~~~~~~~~~~~~~')\n",
        "\t\t\tprint('title = number of spikes from each unit')\n",
        "\t\t\tunits = good_units if j==0 else mua_units\n",
        "\t\t\tfig = plt.figure(figsize=(12,3), dpi=150)\n",
        "\t\t\tgrid = gridspec.GridSpec(2,20, figure=fig, hspace=0.25, wspace=0.5)\n",
        "\n",
        "\t\t\tfor k in range(40):\n",
        "\t\t\t\t\twi = units[np.random.randint(len(units))]\n",
        "\t\t\t\t\twv = templates[wi].copy()\n",
        "\t\t\t\t\tcb = chan_best[wi]\n",
        "\t\t\t\t\tnsp = (clu==wi).sum()\n",
        "\n",
        "\t\t\t\t\tax = fig.add_subplot(grid[k//20, k%20])\n",
        "\t\t\t\t\tn_chan = wv.shape[-1]\n",
        "\t\t\t\t\tic0 = max(0, cb-nc//2)\n",
        "\t\t\t\t\tic1 = min(n_chan, cb+nc//2)\n",
        "\t\t\t\t\twv = wv[:, ic0:ic1]\n",
        "\t\t\t\t\tx0, y0 = xc[ic0:ic1], yc[ic0:ic1]\n",
        "\n",
        "\t\t\t\t\tamp = 4\n",
        "\t\t\t\t\tfor ii, (xi,yi) in enumerate(zip(x0,y0)):\n",
        "\t\t\t\t\t\t\tt = np.arange(-wv.shape[0]//2,wv.shape[0]//2,1,'float32')\n",
        "\t\t\t\t\t\t\tt /= wv.shape[0] / 20\n",
        "\t\t\t\t\t\t\tax.plot(xi + t, yi + wv[:,ii]*amp, lw=0.5, color='k')\n",
        "\n",
        "\t\t\t\t\tax.set_title(f'{nsp}', fontsize='small')\n",
        "\t\t\t\t\tax.axis('off')\n",
        "\t\t\tplt.show()"
      ],
      "metadata": {
        "id": "qJU37tDoetxD"
      },
      "execution_count": null,
      "outputs": []
    }
  ],
  "metadata": {
    "colab": {
      "provenance": [],
      "gpuType": "L4",
      "machine_shape": "hm"
    },
    "kernelspec": {
      "display_name": "Python 3",
      "name": "python3"
    },
    "language_info": {
      "codemirror_mode": {
        "name": "ipython",
        "version": 3
      },
      "file_extension": ".py",
      "mimetype": "text/x-python",
      "name": "python",
      "nbconvert_exporter": "python",
      "pygments_lexer": "ipython3",
      "version": "3.9.19"
    },
    "accelerator": "GPU"
  },
  "nbformat": 4,
  "nbformat_minor": 0
}