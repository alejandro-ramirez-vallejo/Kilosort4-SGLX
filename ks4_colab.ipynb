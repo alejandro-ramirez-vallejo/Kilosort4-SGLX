{
  "cells": [
    {
      "cell_type": "markdown",
      "metadata": {
        "id": "O8lV4mMFtg4r"
      },
      "source": [
        "# Kilosort 4\n",
        "\n",
        "To run kilosort4 on Google Colab"
      ]
    },
    {
      "cell_type": "code",
      "execution_count": null,
      "metadata": {
        "colab": {
          "base_uri": "https://localhost:8080/"
        },
        "id": "guO6fp8ia73f",
        "outputId": "41141738-2d1e-4345-db3c-1706fe8519dc"
      },
      "outputs": [
        {
          "name": "stdout",
          "output_type": "stream",
          "text": [
            "Mounted at /content/drive\n"
          ]
        }
      ],
      "source": [
        "from google.colab import drive\n",
        "drive.mount('/content/drive')"
      ]
    },
    {
      "cell_type": "markdown",
      "metadata": {
        "id": "z8aqJH69e6Uo"
      },
      "source": [
        "***\n",
        "## Import and Install Libraries"
      ]
    },
    {
      "cell_type": "code",
      "execution_count": 4,
      "metadata": {
        "colab": {
          "base_uri": "https://localhost:8080/"
        },
        "id": "h1pY_Qdps78T",
        "outputId": "07dd99e4-ea19-4f46-8cb0-85f6ebb082ff"
      },
      "outputs": [],
      "source": [
        "import os\n",
        "import re\n",
        "import sys\n",
        "import warnings\n",
        "import argparse\n",
        "import numpy as np\n",
        "import pandas as pd\n",
        "from pathlib import Path\n",
        "import matplotlib.pyplot as plt\n",
        "from collections import defaultdict\n",
        "from matplotlib import gridspec, rcParams\n",
        "warnings.simplefilter(\"ignore\")\n",
        "# install kilosort\n",
        "# !pip install kilosort\n",
        "from kilosort import run_kilosort\n",
        "\n",
        "# sys.path.append('/content/drive/MyDrive/Columbia/Salzman/Projects/Spike-Sorting/Kilosort4-SGLX')"
      ]
    },
    {
      "cell_type": "markdown",
      "metadata": {
        "id": "LNpa4hj8e177"
      },
      "source": [
        "***\n",
        "## Find Recording Folders"
      ]
    },
    {
      "cell_type": "code",
      "execution_count": 5,
      "metadata": {
        "colab": {
          "base_uri": "https://localhost:8080/"
        },
        "id": "1GfGnTFsuW0j",
        "outputId": "76c07bfe-c5a7-428d-ad5f-1c34a9308943"
      },
      "outputs": [
        {
          "name": "stdout",
          "output_type": "stream",
          "text": [
            "SpikeGLX folder: C:/Users/Alejandro/Downloads\\gandalf_20231223_g0\n"
          ]
        },
        {
          "data": {
            "text/plain": [
              "{'imec0': 'C:/Users/Alejandro/Downloads\\\\gandalf_20231223_g0\\\\gandalf_20231223_g0_imec0',\n",
              " 'imec1': 'C:/Users/Alejandro/Downloads\\\\gandalf_20231223_g0\\\\gandalf_20231223_g0_imec1',\n",
              " 'imec2': 'C:/Users/Alejandro/Downloads\\\\gandalf_20231223_g0\\\\gandalf_20231223_g0_imec2',\n",
              " 'imec3': 'C:/Users/Alejandro/Downloads\\\\gandalf_20231223_g0\\\\gandalf_20231223_g0_imec3'}"
            ]
          },
          "execution_count": 5,
          "metadata": {},
          "output_type": "execute_result"
        }
      ],
      "source": [
        "def read_recording_folder(root, monkey, date, session_num=0):\n",
        "\tsglx_folder = os.path.join(root, f'{monkey}_{date}_g{session_num}')\n",
        "\timec_folder_dict = defaultdict(str)\n",
        "\tprint(f'SpikeGLX folder: {sglx_folder}')\n",
        "\t# check if it exists\n",
        "\tif not os.path.exists(sglx_folder):\n",
        "\t\tsys.exit(f'{sglx_folder} does not exist')\n",
        "\t# print all folders that have imec<int> in them\n",
        "\tfor root, dirs, files in os.walk(sglx_folder):\n",
        "\t\tfor folder in dirs:\n",
        "\t\t\t# only if the directory ends with imec<int>\n",
        "\t\t\tif re.search('imec\\d$', folder):\n",
        "\t\t\t\timec_num = re.search('imec\\d$', folder).group()\n",
        "\t\t\t\timec_folder_dict[imec_num] = os.path.join(root, folder)\n",
        "\tif not imec_folder_dict:\n",
        "\t\ttry:\n",
        "\t\t\tprint(os.listdir(root))\n",
        "\t\texcept:\n",
        "\t\t\tprint(f'{root} missing')\n",
        "\t\tsys.exit(f'No imec folders found in {sglx_folder}')\n",
        "\t# order the dictionary\n",
        "\timec_folder_dict = dict(sorted(imec_folder_dict.items(), key=lambda item: item[1]))\n",
        "\treturn sglx_folder, imec_folder_dict\n",
        "\n",
        "root='/content/drive/Othercomputers/Ephys/E:'\n",
        "# root = 'E:'\n",
        "root = \"C:/Users/Alejandro/Downloads\"\n",
        "monkey = 'gandalf'\n",
        "date = '20231223'\n",
        "session_num = 0\n",
        "sglx_folder, imec_folder_dict = read_recording_folder(root, monkey, date, session_num)\n",
        "\n",
        "imec_folder_dict"
      ]
    },
    {
      "cell_type": "markdown",
      "metadata": {
        "id": "mXH7JhRXf7yI"
      },
      "source": [
        "***\n",
        "## Run CatGT"
      ]
    },
    {
      "cell_type": "code",
      "execution_count": 3,
      "metadata": {
        "colab": {
          "base_uri": "https://localhost:8080/"
        },
        "id": "svOvv-qufXwO",
        "outputId": "6b7d5ad8-b288-464d-9830-d322b5f4caf0"
      },
      "outputs": [
        {
          "name": "stdout",
          "output_type": "stream",
          "text": [
            "Running CatGT on C:/Users/Alejandro/Downloads\\gandalf_20231223_g0\n",
            "  Bash command: runit.bat -dir=C:/Users/Alejandro/Downloads -run=gandalf_20231223 -prb_fld -g=0 -t=0 -ni -prb=0:3\n",
            "  CatGT complete. Time elapsed: 0.16 seconds\n"
          ]
        }
      ],
      "source": [
        "import time\n",
        "import subprocess\n",
        "\n",
        "run_catgt = True\n",
        "cat_prb_fld = '0:3'\n",
        "ks_path = os.getcwd()\n",
        "# ks_path = '/content/drive/MyDrive/Columbia/Salzman/Projects/Spike-Sorting/Kilosort4-SGLX'\n",
        "catgt_path = os.path.join(ks_path, 'CatGT-win')\n",
        "\n",
        "if run_catgt:\n",
        "  sys.path.append(catgt_path)\n",
        "  if not os.path.exists(catgt_path):\n",
        "    print(f'CatGT Missing: ')\n",
        "  print(f\"Running CatGT on {sglx_folder}\")\n",
        "  # time how long it takes\n",
        "  start_time = time.time()\n",
        "  # to run CatGT and generate tcat files with gblcar\n",
        "  # catgt_command = f\"runit.bat -dir={root} -run={monkey}_{date} -prb_fld -g={session_num} -t=0 -ni -prb={cat_prb_fld} -ap -gblcar\"\n",
        "  # to extract sync signals and not run CatGT \n",
        "  catgt_command = f\"runit.bat -dir={root} -run={monkey}_{date} -prb_fld -g={session_num} -t=0 -ni -prb={cat_prb_fld}\"\n",
        "  print(f\"  Bash command: {catgt_command}\")\n",
        "  subprocess.run(catgt_command, cwd=catgt_path, shell=True)\n",
        "  print(f\"  CatGT complete. Time elapsed: {time.time() - start_time:.2f} seconds\")\n"
      ]
    },
    {
      "cell_type": "code",
      "execution_count": 9,
      "metadata": {},
      "outputs": [
        {
          "data": {
            "text/plain": [
              "{'imec1': 'C:/Users/Alejandro/Downloads\\\\gandalf_20231223_g0\\\\gandalf_20231223_g0_imec1',\n",
              " 'imec2': 'C:/Users/Alejandro/Downloads\\\\gandalf_20231223_g0\\\\gandalf_20231223_g0_imec2',\n",
              " 'imec3': 'C:/Users/Alejandro/Downloads\\\\gandalf_20231223_g0\\\\gandalf_20231223_g0_imec3'}"
            ]
          },
          "execution_count": 9,
          "metadata": {},
          "output_type": "execute_result"
        }
      ],
      "source": [
        "# pop off 'imec0' key from imec_folder_dict\n",
        "imec0_folder = imec_folder_dict.pop('imec0')\n",
        "imec_folder_dict"
      ]
    },
    {
      "cell_type": "markdown",
      "metadata": {
        "id": "3H4BD7mLexsn"
      },
      "source": [
        "***\n",
        "## Run Kilosort"
      ]
    },
    {
      "cell_type": "code",
      "execution_count": 10,
      "metadata": {
        "colab": {
          "base_uri": "https://localhost:8080/"
        },
        "id": "PGS-3oCKsyS1",
        "outputId": "ff6afcdd-6a6b-4c37-85d2-3ec39d7f71bc"
      },
      "outputs": [
        {
          "name": "stdout",
          "output_type": "stream",
          "text": [
            "imec1 folder: C:/Users/Alejandro/Downloads\\gandalf_20231223_g0\\gandalf_20231223_g0_imec1\n",
            "Interpreting binary file as default dtype='int16'. If data was saved in a different format, specify `data_dtype`.\n",
            "Using GPU for PyTorch computations. Specify `device` to change this.\n",
            "using probe neuropixels_NHP_channel_map_linear_v1.mat\n",
            "Preprocessing filters computed in  14.83s; total  14.83s\n",
            "\n",
            "computing drift\n",
            "Re-computing universal templates from data.\n"
          ]
        },
        {
          "name": "stderr",
          "output_type": "stream",
          "text": [
            "100%|██████████| 3021/3021 [49:19<00:00,  1.02it/s]  \n"
          ]
        },
        {
          "name": "stdout",
          "output_type": "stream",
          "text": [
            "drift computed in  3330.19s; total  3345.02s\n",
            "\n",
            "Extracting spikes using templates\n",
            "Re-computing universal templates from data.\n"
          ]
        },
        {
          "name": "stderr",
          "output_type": "stream",
          "text": [
            "100%|██████████| 3021/3021 [48:02<00:00,  1.05it/s]  \n"
          ]
        },
        {
          "name": "stdout",
          "output_type": "stream",
          "text": [
            "40856619 spikes extracted in  2914.06s; total  6259.12s\n",
            "\n",
            "First clustering\n"
          ]
        },
        {
          "name": "stderr",
          "output_type": "stream",
          "text": [
            "100%|██████████| 96/96 [1:40:55<00:00, 63.08s/it] \n"
          ]
        },
        {
          "name": "stdout",
          "output_type": "stream",
          "text": [
            "729 clusters found, in  6059.47s; total  12318.59s\n",
            "\n",
            "Extracting spikes using cluster waveforms\n"
          ]
        },
        {
          "name": "stderr",
          "output_type": "stream",
          "text": [
            "100%|██████████| 3021/3021 [34:33<00:00,  1.46it/s]  \n"
          ]
        },
        {
          "name": "stdout",
          "output_type": "stream",
          "text": [
            "49397096 spikes extracted in  2086.31s; total  14404.91s\n",
            "\n",
            "Final clustering\n"
          ]
        },
        {
          "name": "stderr",
          "output_type": "stream",
          "text": [
            "100%|██████████| 96/96 [2:04:22<00:00, 77.74s/it]   \n"
          ]
        },
        {
          "name": "stdout",
          "output_type": "stream",
          "text": [
            "642 clusters found, in  7462.82s; total  21867.97s\n",
            "\n",
            "Merging clusters\n",
            "590 units found, in  83.08s; total  21951.04s\n",
            "\n",
            "Saving to phy and computing refractory periods\n",
            "231 units found with good refractory periods\n",
            "\n",
            "Total runtime: 22298.80s = 06:11:39 h:m:s\n",
            "Error in running Kilosort4 for imec1\n",
            "imec2 folder: C:/Users/Alejandro/Downloads\\gandalf_20231223_g0\\gandalf_20231223_g0_imec2\n",
            "Interpreting binary file as default dtype='int16'. If data was saved in a different format, specify `data_dtype`.\n",
            "Using GPU for PyTorch computations. Specify `device` to change this.\n",
            "using probe neuropixels_NHP_channel_map_linear_v1.mat\n",
            "Preprocessing filters computed in  13.21s; total  13.21s\n",
            "\n",
            "computing drift\n",
            "Re-computing universal templates from data.\n"
          ]
        },
        {
          "name": "stderr",
          "output_type": "stream",
          "text": [
            "100%|██████████| 3021/3021 [47:29<00:00,  1.06it/s]\n"
          ]
        },
        {
          "name": "stdout",
          "output_type": "stream",
          "text": [
            "drift computed in  2928.38s; total  2941.59s\n",
            "\n",
            "Extracting spikes using templates\n",
            "Re-computing universal templates from data.\n"
          ]
        },
        {
          "name": "stderr",
          "output_type": "stream",
          "text": [
            "100%|██████████| 3021/3021 [45:11<00:00,  1.11it/s]\n"
          ]
        },
        {
          "name": "stdout",
          "output_type": "stream",
          "text": [
            "5446693 spikes extracted in  2733.34s; total  5674.98s\n",
            "\n",
            "First clustering\n"
          ]
        },
        {
          "name": "stderr",
          "output_type": "stream",
          "text": [
            "100%|██████████| 96/96 [06:09<00:00,  3.85s/it]\n"
          ]
        },
        {
          "name": "stdout",
          "output_type": "stream",
          "text": [
            "560 clusters found, in  371.06s; total  6046.04s\n",
            "\n",
            "Extracting spikes using cluster waveforms\n"
          ]
        },
        {
          "name": "stderr",
          "output_type": "stream",
          "text": [
            "100%|██████████| 3021/3021 [10:16<00:00,  4.90it/s]\n"
          ]
        },
        {
          "name": "stdout",
          "output_type": "stream",
          "text": [
            "8230269 spikes extracted in  618.19s; total  6664.23s\n",
            "\n",
            "Final clustering\n"
          ]
        },
        {
          "name": "stderr",
          "output_type": "stream",
          "text": [
            "100%|██████████| 96/96 [10:56<00:00,  6.84s/it]\n"
          ]
        },
        {
          "name": "stdout",
          "output_type": "stream",
          "text": [
            "485 clusters found, in  656.83s; total  7321.10s\n",
            "\n",
            "Merging clusters\n",
            "467 units found, in  13.88s; total  7334.98s\n",
            "\n",
            "Saving to phy and computing refractory periods\n",
            "217 units found with good refractory periods\n",
            "\n",
            "Total runtime: 7392.87s = 02:03:13 h:m:s\n",
            "Error in running Kilosort4 for imec2\n",
            "imec3 folder: C:/Users/Alejandro/Downloads\\gandalf_20231223_g0\\gandalf_20231223_g0_imec3\n",
            "Interpreting binary file as default dtype='int16'. If data was saved in a different format, specify `data_dtype`.\n",
            "Using GPU for PyTorch computations. Specify `device` to change this.\n",
            "using probe neuropixels_NHP_channel_map_linear_v1.mat\n",
            "Preprocessing filters computed in  13.36s; total  13.36s\n",
            "\n",
            "computing drift\n",
            "Re-computing universal templates from data.\n"
          ]
        },
        {
          "name": "stderr",
          "output_type": "stream",
          "text": [
            "100%|██████████| 3021/3021 [48:27<00:00,  1.04it/s]\n"
          ]
        },
        {
          "name": "stdout",
          "output_type": "stream",
          "text": [
            "drift computed in  2969.23s; total  2982.59s\n",
            "\n",
            "Extracting spikes using templates\n",
            "Re-computing universal templates from data.\n"
          ]
        },
        {
          "name": "stderr",
          "output_type": "stream",
          "text": [
            "100%|██████████| 3021/3021 [47:46<00:00,  1.05it/s]\n"
          ]
        },
        {
          "name": "stdout",
          "output_type": "stream",
          "text": [
            "3366498 spikes extracted in  2889.78s; total  5872.37s\n",
            "\n",
            "First clustering\n"
          ]
        },
        {
          "name": "stderr",
          "output_type": "stream",
          "text": [
            "100%|██████████| 96/96 [03:48<00:00,  2.38s/it]\n"
          ]
        },
        {
          "name": "stdout",
          "output_type": "stream",
          "text": [
            "471 clusters found, in  229.24s; total  6101.61s\n",
            "\n",
            "Extracting spikes using cluster waveforms\n"
          ]
        },
        {
          "name": "stderr",
          "output_type": "stream",
          "text": [
            "100%|██████████| 3021/3021 [08:46<00:00,  5.74it/s]\n"
          ]
        },
        {
          "name": "stdout",
          "output_type": "stream",
          "text": [
            "5252870 spikes extracted in  527.54s; total  6629.14s\n",
            "\n",
            "Final clustering\n"
          ]
        },
        {
          "name": "stderr",
          "output_type": "stream",
          "text": [
            "100%|██████████| 96/96 [06:00<00:00,  3.75s/it]\n"
          ]
        },
        {
          "name": "stdout",
          "output_type": "stream",
          "text": [
            "366 clusters found, in  360.14s; total  6989.30s\n",
            "\n",
            "Merging clusters\n",
            "353 units found, in  7.65s; total  6996.95s\n",
            "\n",
            "Saving to phy and computing refractory periods\n",
            "100 units found with good refractory periods\n",
            "\n",
            "Total runtime: 7034.53s = 01:57:15 h:m:s\n",
            "Error in running Kilosort4 for imec3\n"
          ]
        }
      ],
      "source": [
        "def run_kilosort4(imec_num, settings, results):\n",
        "\tdefault_kilosort_settings = {'n_chan_bin': 385}\n",
        "\ttry:\n",
        "\t\tops, st, clu, tF, Wall, similar_templates, is_ref, est_contam_rate = \\\n",
        "\t\t\t\trun_kilosort(settings=default_kilosort_settings,\n",
        "\t\t\t\t\t\t\t\t\t\tprobe_name=settings['probe_name'],\n",
        "\t\t\t\t\t\t\t\t\t\tfilename=settings['filename'],\n",
        "\t\t\t\t\t\t\t\t\t\tresults_dir=settings['results_dir'],\n",
        "\t\t\t\t\t\t\t\t\t\tdo_CAR=settings['do_CAR'],)\n",
        "\t\tresults[imec_num] = {'ops': ops,\n",
        "\t\t\t\t\t\t\t\t\t\t\t\t'st': st, \n",
        "\t\t\t\t\t\t\t\t\t\t\t\t'clu': clu, \n",
        "\t\t\t\t\t\t\t\t\t\t\t\t'tF': tF, \n",
        "\t\t\t\t\t\t\t\t\t\t\t\t'Wall': Wall, \n",
        "\t\t\t\t\t\t\t\t\t\t\t\t'similar_templates': similar_templates, \n",
        "\t\t\t\t\t\t\t\t\t\t\t\t'is_ref': is_ref, \n",
        "\t\t\t\t\t\t\t\t\t\t\t\t'est_contam_rate': est_contam_rate}\n",
        "\texcept:\n",
        "\t\tprint(f'Error in running Kilosort4 for {imec_num}')\n",
        "\treturn results\n",
        "\n",
        "map_file = os.path.join(os.getcwd(), 'configFiles/neuropixels_NHP_channel_map_linear_v1.mat')\n",
        "n_channels = 385\n",
        "results = defaultdict(lambda: defaultdict(dict))\n",
        "\n",
        "for imec_num, imec_folder in imec_folder_dict.items():\n",
        "\tprint(f'{imec_num} folder: {imec_folder}')\n",
        "\tdata_dir = imec_folder\n",
        "\tsave_path = os.path.join(imec_folder, f'{monkey}_{date}_g{session_num}_{imec_num}_ks4')\n",
        "\tbin_file = os.path.join(imec_folder, f'{monkey}_{date}_g{session_num}_t0.{imec_num}.ap.bin')\n",
        "\tif not os.path.exists(bin_file):\n",
        "\t\tprint(f'{bin_file} does not exist')\n",
        "\t\tcontinue\n",
        "\tsettings = {'filename': bin_file,\n",
        "\t\t\t\t\t\t\t'results_dir': save_path,\n",
        "\t\t\t\t\t\t\t'do_CAR': True,\n",
        "\t\t\t\t\t\t\t'n_channels': n_channels,\n",
        "\t\t\t\t\t\t\t'probe_name': map_file}\n",
        "\trun_kilosort4(imec_num, settings, results)"
      ]
    },
    {
      "cell_type": "markdown",
      "metadata": {
        "id": "judqt7DlhW3R"
      },
      "source": [
        "***\n",
        "## Run TPrime"
      ]
    },
    {
      "cell_type": "code",
      "execution_count": null,
      "metadata": {
        "id": "YD8oERznhZdy"
      },
      "outputs": [],
      "source": [
        "from pathlib import Path\n",
        "\n",
        "run_tprime = True\n",
        "sglx_tools = os.path.join(ks_path, 'SpikeGLX_Datafile_Tools/Python/DemoReadSGLXData')\n",
        "sys.path.append(sglx_tools)\n",
        "from readSGLX import readMeta\n",
        "\n",
        "if run_tprime:\n",
        "  for imec_num, imec_folder in imec_folder_dict.items():\n",
        "    meta_file = [f for f in os.listdir(imec_folder) if f.endswith('.meta')][0]\n",
        "    bin_file = os.path.join(imec_folder, f'{monkey}_{date}_g{session_num}_t0.{imec_num}.ap.bin')\n",
        "    bin_file_path = Path(bin_file_path)\n",
        "    meta_file = readMeta(bin_file_path)\n",
        "    print(\"\\tConverting spike times to seconds...\")\n",
        "    sample_rate = float(meta_file['imSampRate'])\n",
        "    print(f\"\\tSampling rate: {sample_rate:.2f}\")\n",
        "    spike_times = np.load(os.path.join(dest_folder_path, 'spike_times.npy'))\n",
        "    # keep full precision\n",
        "    spike_times_sec = spike_times / sample_rate\n",
        "    spike_times_sec_file = os.path.join(dest_folder_path, \"spike_times_sec.txt\")\n",
        "    with open(spike_times_sec_file, 'w') as f:\n",
        "        for spike_time in spike_times_sec:\n",
        "            f.write(f\"{spike_time}\\n\")\n",
        "    print(f\"\\t\\tGenerating {spike_times_sec_file}\")\n",
        "    print(\"\\t\\tDone.\")"
      ]
    },
    {
      "cell_type": "code",
      "execution_count": 9,
      "metadata": {
        "id": "qJU37tDoetxD"
      },
      "outputs": [],
      "source": [
        "def plot_results(settings):\n",
        "\n",
        "\t# outputs saved to results_dir\n",
        "\tresults_dir = Path(settings['results_dir']).joinpath('kilosort4')\n",
        "\tops = np.load(results_dir / 'ops.npy', allow_pickle=True).item()\n",
        "\tcamps = pd.read_csv(results_dir / 'cluster_Amplitude.tsv', sep='\\t')['Amplitude'].values\n",
        "\tcontam_pct = pd.read_csv(results_dir / 'cluster_ContamPct.tsv', sep='\\t')['ContamPct'].values\n",
        "\tchan_map =  np.load(results_dir / 'channel_map.npy')\n",
        "\ttemplates =  np.load(results_dir / 'templates.npy')\n",
        "\tchan_best = (templates**2).sum(axis=1).argmax(axis=-1)\n",
        "\tchan_best = chan_map[chan_best]\n",
        "\tamplitudes = np.load(results_dir / 'amplitudes.npy')\n",
        "\tst = np.load(results_dir / 'spike_times.npy')\n",
        "\tclu = np.load(results_dir / 'spike_clusters.npy')\n",
        "\tfiring_rates = np.unique(clu, return_counts=True)[1] * 30000 / st.max()\n",
        "\tdshift = ops['dshift']\n",
        "\n",
        "\trcParams['axes.spines.top'] = False\n",
        "\trcParams['axes.spines.right'] = False\n",
        "\tgray = .5 * np.ones(3)\n",
        "\n",
        "\tfig = plt.figure(figsize=(10,10), dpi=100)\n",
        "\tgrid = gridspec.GridSpec(3, 3, figure=fig, hspace=0.5, wspace=0.5)\n",
        "\n",
        "\tax = fig.add_subplot(grid[0,0])\n",
        "\tax.plot(np.arange(0, ops['Nbatches'])*2, dshift);\n",
        "\tax.set_xlabel('time (sec.)')\n",
        "\tax.set_ylabel('drift (um)')\n",
        "\n",
        "\tax = fig.add_subplot(grid[0,1:])\n",
        "\tt0 = 0\n",
        "\tt1 = np.nonzero(st > ops['fs']*5)[0][0]\n",
        "\tax.scatter(st[t0:t1]/30000., chan_best[clu[t0:t1]], s=0.5, color='k', alpha=0.25)\n",
        "\tax.set_xlim([0, 5])\n",
        "\tax.set_ylim([chan_map.max(), 0])\n",
        "\tax.set_xlabel('time (sec.)')\n",
        "\tax.set_ylabel('channel')\n",
        "\tax.set_title('spikes from units')\n",
        "\n",
        "\tax = fig.add_subplot(grid[1,0])\n",
        "\tnb=ax.hist(firing_rates, 20, color=gray)\n",
        "\tax.set_xlabel('firing rate (Hz)')\n",
        "\tax.set_ylabel('# of units')\n",
        "\n",
        "\tax = fig.add_subplot(grid[1,1])\n",
        "\tnb=ax.hist(camps, 20, color=gray)\n",
        "\tax.set_xlabel('amplitude')\n",
        "\tax.set_ylabel('# of units')\n",
        "\n",
        "\tax = fig.add_subplot(grid[1,2])\n",
        "\tnb=ax.hist(np.minimum(100, contam_pct), np.arange(0,105,5), color=gray)\n",
        "\tax.plot([10, 10], [0, nb[0].max()], 'k--')\n",
        "\tax.set_xlabel('% contamination')\n",
        "\tax.set_ylabel('# of units')\n",
        "\tax.set_title('< 10% = good units')\n",
        "\n",
        "\tfor k in range(2):\n",
        "\t\t\tax = fig.add_subplot(grid[2,k])\n",
        "\t\t\tis_ref = contam_pct<10.\n",
        "\t\t\tax.scatter(firing_rates[~is_ref], camps[~is_ref], s=3, color='r', label='mua', alpha=0.25)\n",
        "\t\t\tax.scatter(firing_rates[is_ref], camps[is_ref], s=3, color='b', label='good', alpha=0.25)\n",
        "\t\t\tax.set_ylabel('amplitude (a.u.)')\n",
        "\t\t\tax.set_xlabel('firing rate (Hz)')\n",
        "\t\t\tax.legend()\n",
        "\t\t\tif k==1:\n",
        "\t\t\t\t\tax.set_xscale('log')\n",
        "\t\t\t\t\tax.set_yscale('log')\n",
        "\t\t\t\t\tax.set_title('loglog')\n",
        "\n",
        "\t#\n",
        "\tprobe = ops['probe']\n",
        "\t# x and y position of probe sites\n",
        "\txc, yc = probe['xc'], probe['yc']\n",
        "\tnc = 16 # number of channels to show\n",
        "\tgood_units = np.nonzero(contam_pct <= 0.1)[0]\n",
        "\tmua_units = np.nonzero(contam_pct > 0.1)[0]\n",
        "\n",
        "\tgstr = ['good', 'mua']\n",
        "\tfor j in range(2):\n",
        "\t\t\tprint(f'~~~~~~~~~~~~~~ {gstr[j]} units ~~~~~~~~~~~~~~~~~~~~~~~~~~~~~~~~')\n",
        "\t\t\tprint('title = number of spikes from each unit')\n",
        "\t\t\tunits = good_units if j==0 else mua_units\n",
        "\t\t\tfig = plt.figure(figsize=(12,3), dpi=150)\n",
        "\t\t\tgrid = gridspec.GridSpec(2,20, figure=fig, hspace=0.25, wspace=0.5)\n",
        "\n",
        "\t\t\tfor k in range(40):\n",
        "\t\t\t\t\twi = units[np.random.randint(len(units))]\n",
        "\t\t\t\t\twv = templates[wi].copy()\n",
        "\t\t\t\t\tcb = chan_best[wi]\n",
        "\t\t\t\t\tnsp = (clu==wi).sum()\n",
        "\n",
        "\t\t\t\t\tax = fig.add_subplot(grid[k//20, k%20])\n",
        "\t\t\t\t\tn_chan = wv.shape[-1]\n",
        "\t\t\t\t\tic0 = max(0, cb-nc//2)\n",
        "\t\t\t\t\tic1 = min(n_chan, cb+nc//2)\n",
        "\t\t\t\t\twv = wv[:, ic0:ic1]\n",
        "\t\t\t\t\tx0, y0 = xc[ic0:ic1], yc[ic0:ic1]\n",
        "\n",
        "\t\t\t\t\tamp = 4\n",
        "\t\t\t\t\tfor ii, (xi,yi) in enumerate(zip(x0,y0)):\n",
        "\t\t\t\t\t\t\tt = np.arange(-wv.shape[0]//2,wv.shape[0]//2,1,'float32')\n",
        "\t\t\t\t\t\t\tt /= wv.shape[0] / 20\n",
        "\t\t\t\t\t\t\tax.plot(xi + t, yi + wv[:,ii]*amp, lw=0.5, color='k')\n",
        "\n",
        "\t\t\t\t\tax.set_title(f'{nsp}', fontsize='small')\n",
        "\t\t\t\t\tax.axis('off')\n",
        "\t\t\tplt.show()"
      ]
    },
    {
      "cell_type": "code",
      "execution_count": 10,
      "metadata": {},
      "outputs": [
        {
          "ename": "KeyError",
          "evalue": "'data_dir'",
          "output_type": "error",
          "traceback": [
            "\u001b[1;31m---------------------------------------------------------------------------\u001b[0m",
            "\u001b[1;31mKeyError\u001b[0m                                  Traceback (most recent call last)",
            "Cell \u001b[1;32mIn[10], line 1\u001b[0m\n\u001b[1;32m----> 1\u001b[0m plot_results(settings)\n",
            "Cell \u001b[1;32mIn[9], line 4\u001b[0m, in \u001b[0;36mplot_results\u001b[1;34m(settings)\u001b[0m\n\u001b[0;32m      1\u001b[0m \u001b[38;5;28;01mdef\u001b[39;00m \u001b[38;5;21mplot_results\u001b[39m(settings):\n\u001b[0;32m      2\u001b[0m \n\u001b[0;32m      3\u001b[0m \t\u001b[38;5;66;03m# outputs saved to results_dir\u001b[39;00m\n\u001b[1;32m----> 4\u001b[0m \tresults_dir \u001b[38;5;241m=\u001b[39m Path(settings[\u001b[38;5;124m'\u001b[39m\u001b[38;5;124mdata_dir\u001b[39m\u001b[38;5;124m'\u001b[39m])\u001b[38;5;241m.\u001b[39mjoinpath(\u001b[38;5;124m'\u001b[39m\u001b[38;5;124mkilosort4\u001b[39m\u001b[38;5;124m'\u001b[39m)\n\u001b[0;32m      5\u001b[0m \tops \u001b[38;5;241m=\u001b[39m np\u001b[38;5;241m.\u001b[39mload(results_dir \u001b[38;5;241m/\u001b[39m \u001b[38;5;124m'\u001b[39m\u001b[38;5;124mops.npy\u001b[39m\u001b[38;5;124m'\u001b[39m, allow_pickle\u001b[38;5;241m=\u001b[39m\u001b[38;5;28;01mTrue\u001b[39;00m)\u001b[38;5;241m.\u001b[39mitem()\n\u001b[0;32m      6\u001b[0m \tcamps \u001b[38;5;241m=\u001b[39m pd\u001b[38;5;241m.\u001b[39mread_csv(results_dir \u001b[38;5;241m/\u001b[39m \u001b[38;5;124m'\u001b[39m\u001b[38;5;124mcluster_Amplitude.tsv\u001b[39m\u001b[38;5;124m'\u001b[39m, sep\u001b[38;5;241m=\u001b[39m\u001b[38;5;124m'\u001b[39m\u001b[38;5;130;01m\\t\u001b[39;00m\u001b[38;5;124m'\u001b[39m)[\u001b[38;5;124m'\u001b[39m\u001b[38;5;124mAmplitude\u001b[39m\u001b[38;5;124m'\u001b[39m]\u001b[38;5;241m.\u001b[39mvalues\n",
            "\u001b[1;31mKeyError\u001b[0m: 'data_dir'"
          ]
        }
      ],
      "source": [
        "plot_results(settings[''])"
      ]
    },
    {
      "cell_type": "code",
      "execution_count": 11,
      "metadata": {},
      "outputs": [
        {
          "data": {
            "text/plain": [
              "{'filename': 'C:/Users/Alejandro/Downloads\\\\gandalf_20240126_g0\\\\gandalf_20240126_g0_imec1\\\\gandalf_20240126_g0_t0.imec1.ap.bin',\n",
              " 'results_dir': 'C:/Users/Alejandro/Downloads\\\\gandalf_20240126_g0\\\\gandalf_20240126_g0_imec1\\\\gandalf_20240126_g0_t0.imec1_ks4',\n",
              " 'do_CAR': True,\n",
              " 'n_channels': 385,\n",
              " 'probe_name': 'C:/Users/Alejandro/Documents/GitHub/Kilosort4-SGLX/configFiles/neuropixels_NHP_channel_map_linear_v1.mat'}"
            ]
          },
          "execution_count": 11,
          "metadata": {},
          "output_type": "execute_result"
        }
      ],
      "source": [
        "settings"
      ]
    },
    {
      "cell_type": "code",
      "execution_count": null,
      "metadata": {},
      "outputs": [],
      "source": []
    }
  ],
  "metadata": {
    "accelerator": "GPU",
    "colab": {
      "gpuType": "L4",
      "machine_shape": "hm",
      "provenance": []
    },
    "kernelspec": {
      "display_name": "Python 3",
      "name": "python3"
    },
    "language_info": {
      "codemirror_mode": {
        "name": "ipython",
        "version": 3
      },
      "file_extension": ".py",
      "mimetype": "text/x-python",
      "name": "python",
      "nbconvert_exporter": "python",
      "pygments_lexer": "ipython3",
      "version": "3.11.8"
    }
  },
  "nbformat": 4,
  "nbformat_minor": 0
}
