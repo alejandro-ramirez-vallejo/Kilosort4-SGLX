{
 "cells": [
  {
   "cell_type": "markdown",
   "metadata": {},
   "source": [
    "# Comparing Kilosort Outputs\n",
    "> **Goal:** To compare the outputs of Kilosort3 and Kilosort4 for the same sorted sessions to identify key areas of improvement or weaknesses for the different sorting algorithms<br>\n",
    "> **Notebook Author(s)**: Ellie Mcveigh, Rahim Hashim<br>\n",
    "> **Data Owner(s):** Roberto Gulli, Rahim Hashim, C. Daniel Salzman<br>\n",
    "> **Contact Info:** rh2898@columbia.edu"
   ]
  },
  {
   "cell_type": "code",
   "execution_count": 1,
   "metadata": {},
   "outputs": [],
   "source": [
    "import os\n",
    "import sys\n",
    "import numpy as np\n",
    "import pandas as pd"
   ]
  },
  {
   "cell_type": "markdown",
   "metadata": {},
   "source": [
    "***\n",
    "## Point to Kilosort Output Folders"
   ]
  },
  {
   "cell_type": "code",
   "execution_count": null,
   "metadata": {},
   "outputs": [],
   "source": [
    "path_to_kilo3 = ''\n",
    "path_to_kilo4 = ''"
   ]
  }
 ],
 "metadata": {
  "kernelspec": {
   "display_name": "spikeinterface",
   "language": "python",
   "name": "python3"
  },
  "language_info": {
   "codemirror_mode": {
    "name": "ipython",
    "version": 3
   },
   "file_extension": ".py",
   "mimetype": "text/x-python",
   "name": "python",
   "nbconvert_exporter": "python",
   "pygments_lexer": "ipython3",
   "version": "3.11.6"
  }
 },
 "nbformat": 4,
 "nbformat_minor": 2
}
