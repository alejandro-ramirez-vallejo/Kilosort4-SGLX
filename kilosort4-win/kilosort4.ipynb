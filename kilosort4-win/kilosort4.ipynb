{
 "cells": [
  {
   "cell_type": "code",
   "execution_count": 7,
   "metadata": {},
   "outputs": [
    {
     "name": "stdout",
     "output_type": "stream",
     "text": [
      "The autoreload extension is already loaded. To reload it, use:\n",
      "  %reload_ext autoreload\n",
      "  imec directories: ['gandalf_20240115_g0_imec0', 'gandalf_20240115_g0_imec1', 'gandalf_20240115_g0_imec2', 'gandalf_20240115_g0_imec3']\n",
      "Processing gandalf_20240115_g0_imec0...\n",
      "  Binary file: gandalf_20240115_g0_tcat.imec0.ap.bin\n",
      "    Meta file: gandalf_20240115_g0_tcat.imec0.ap.meta\n",
      "    Running Kilosort4...\n",
      "Interpreting binary file as default dtype='int16'. If data was saved in a different format, specify `data_dtype`.\n",
      "Using GPU for PyTorch computations. Specify `device` to change this.\n",
      "using probe neuropixels_NHP_channel_map_linear_v1.mat\n"
     ]
    },
    {
     "name": "stderr",
     "output_type": "stream",
     "text": [
      "c:\\Users\\Milner\\anaconda3\\envs\\kilosort\\lib\\site-packages\\kilosort\\io.py:497: UserWarning: The given NumPy array is not writable, and PyTorch does not support non-writable tensors. This means writing to this tensor will result in undefined behavior. You may want to copy the array to protect its data or make it writable before converting it to a tensor. This type of warning will be suppressed for the rest of this program. (Triggered internally at ..\\torch\\csrc\\utils\\tensor_numpy.cpp:212.)\n",
      "  X[:, self.nt : self.nt+nsamp] = torch.from_numpy(data).to(self.device).float()\n"
     ]
    },
    {
     "name": "stdout",
     "output_type": "stream",
     "text": [
      "Preprocessing filters computed in  6.78s; total  6.83s\n",
      "\n",
      "computing drift\n",
      "Re-computing universal templates from data.\n"
     ]
    },
    {
     "name": "stderr",
     "output_type": "stream",
     "text": [
      "c:\\Users\\Milner\\anaconda3\\envs\\kilosort\\lib\\site-packages\\threadpoolctl.py:1186: RuntimeWarning: \n",
      "Found Intel OpenMP ('libiomp') and LLVM OpenMP ('libomp') loaded at\n",
      "the same time. Both libraries are known to be incompatible and this\n",
      "can cause random crashes or deadlocks on Linux when loaded in the\n",
      "same Python program.\n",
      "Using threadpoolctl may cause crashes or deadlocks. For more\n",
      "information and possible workarounds, please see\n",
      "    https://github.com/joblib/threadpoolctl/blob/master/multiple_openmp.md\n",
      "\n",
      "  warnings.warn(msg, RuntimeWarning)\n",
      "100%|██████████| 3891/3891 [14:07<00:00,  4.59it/s]\n"
     ]
    },
    {
     "name": "stdout",
     "output_type": "stream",
     "text": [
      "drift computed in  879.20s; total  886.05s\n",
      "\n",
      "Extracting spikes using templates\n",
      "Re-computing universal templates from data.\n"
     ]
    },
    {
     "name": "stderr",
     "output_type": "stream",
     "text": [
      "100%|██████████| 3891/3891 [14:13<00:00,  4.56it/s]\n"
     ]
    },
    {
     "name": "stdout",
     "output_type": "stream",
     "text": [
      "5086436 spikes extracted in  862.68s; total  1749.19s\n",
      "\n",
      "First clustering\n"
     ]
    },
    {
     "name": "stderr",
     "output_type": "stream",
     "text": [
      "  0%|          | 0/96 [00:00<?, ?it/s]"
     ]
    },
    {
     "ename": "",
     "evalue": "",
     "output_type": "error",
     "traceback": [
      "\u001b[1;31mThe Kernel crashed while executing code in the current cell or a previous cell. \n",
      "\u001b[1;31mPlease review the code in the cell(s) to identify a possible cause of the failure. \n",
      "\u001b[1;31mClick <a href='https://aka.ms/vscodeJupyterKernelCrash'>here</a> for more info. \n",
      "\u001b[1;31mView Jupyter <a href='command:jupyter.viewOutput'>log</a> for further details."
     ]
    }
   ],
   "source": [
    "import os\n",
    "import sys\n",
    "import shutil\n",
    "import subprocess\n",
    "import numpy as np\n",
    "from pathlib import Path\n",
    "sys.path.append('C:/Users/Milner/OneDrive/Desktop/Spatial_Abstraction/code/')\n",
    "# from Spatial_Abstraction\n",
    "from spike_glx.read_SGLX import read_SGLX\n",
    "# from kilsort 4\n",
    "from test_kilo4 import run_kilo4\n",
    "\n",
    "# Set paths\n",
    "kilosort_folder = 'C:/Users\\Milner/OneDrive/Desktop/Kilosort-3'\n",
    "config_file_path = os.path.join(kilosort_folder, 'configFiles')\n",
    "chan_map_file = os.path.join(config_file_path, 'neuropixels_NHP_channel_map_linear_v1.mat')\n",
    "\n",
    "# Set session identifiers\n",
    "root = 'D:'\n",
    "date = '20240115'\n",
    "monkey = 'gandalf'\n",
    "\n",
    "# Set Kilosort parameters\n",
    "probes = []\n",
    "session_num = [0]\n",
    "\n",
    "run_kilosort = 1\n",
    "run_catgt = 0\n",
    "cat_prb_fld = '0:3'\n",
    "include_catgt = 0\n",
    "extract_waveforms = 1\n",
    "delete_catbin = 0\n",
    "run_tprime = 0\n",
    "\n",
    "# Set paths\n",
    "kwargs = {\n",
    "\t'kilosort_folder': kilosort_folder,\n",
    "\t'config_file_path': config_file_path,\n",
    "\t'chan_map_file': chan_map_file,\n",
    "\t'root': root,\n",
    "\t'date': date,\n",
    "\t'monkey': monkey,\n",
    "\t'probes': probes,\n",
    "\t'session_num': session_num,\n",
    "\t'kilosort_bool': run_kilosort,\n",
    "\t'run_catgt': run_catgt,\n",
    "\t'cat_prb_fld': cat_prb_fld,\n",
    "\t'include_catgt': include_catgt,\n",
    "\t'extract_waveforms': extract_waveforms,\n",
    "\t'delete_catbin': delete_catbin,\n",
    "\t'run_tprime': run_tprime\n",
    "}\n",
    "\n",
    "# kwargs\n",
    "run_kilo4(**kwargs)"
   ]
  },
  {
   "cell_type": "code",
   "execution_count": null,
   "metadata": {},
   "outputs": [],
   "source": []
  }
 ],
 "metadata": {
  "kernelspec": {
   "display_name": "kilosort",
   "language": "python",
   "name": "python3"
  },
  "language_info": {
   "codemirror_mode": {
    "name": "ipython",
    "version": 3
   },
   "file_extension": ".py",
   "mimetype": "text/x-python",
   "name": "python",
   "nbconvert_exporter": "python",
   "pygments_lexer": "ipython3",
   "version": "3.10.13"
  }
 },
 "nbformat": 4,
 "nbformat_minor": 2
}
